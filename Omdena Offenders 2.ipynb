{
  "nbformat": 4,
  "nbformat_minor": 0,
  "metadata": {
    "colab": {
      "name": "Welcome To Colaboratory",
      "provenance": [],
      "collapsed_sections": [],
      "toc_visible": true,
      "include_colab_link": true
    },
    "kernelspec": {
      "display_name": "Python 3",
      "name": "python3"
    }
  },
  "cells": [
    {
      "cell_type": "markdown",
      "metadata": {
        "id": "view-in-github",
        "colab_type": "text"
      },
      "source": [
        "<a href=\"https://colab.research.google.com/github/shanksghub/Omdena-ML/blob/master/Omdena%20Offenders%202.ipynb\" target=\"_parent\"><img src=\"https://colab.research.google.com/assets/colab-badge.svg\" alt=\"Open In Colab\"/></a>"
      ]
    },
    {
      "cell_type": "code",
      "metadata": {
        "id": "X4bWUNjQ-JLF",
        "colab_type": "code",
        "colab": {}
      },
      "source": [
        "import pandas as pd\n",
        "import numpy as np\n",
        "import matplotlib.pyplot as plt\n",
        "import seaborn as sns\n",
        "%matplotlib inline\n",
        "url = 'https://raw.githubusercontent.com/shanksghub/Omdena-ML/master/sex-offenders.csv'\n",
        "df = pd.read_csv(url)"
      ],
      "execution_count": 0,
      "outputs": []
    },
    {
      "cell_type": "code",
      "metadata": {
        "id": "guwHFi2T-JOG",
        "colab_type": "code",
        "outputId": "1e45bf27-4102-4084-db40-689690985eba",
        "colab": {
          "base_uri": "https://localhost:8080/",
          "height": 204
        }
      },
      "source": [
        "df.head()\n"
      ],
      "execution_count": 0,
      "outputs": [
        {
          "output_type": "execute_result",
          "data": {
            "text/html": [
              "<div>\n",
              "<style scoped>\n",
              "    .dataframe tbody tr th:only-of-type {\n",
              "        vertical-align: middle;\n",
              "    }\n",
              "\n",
              "    .dataframe tbody tr th {\n",
              "        vertical-align: top;\n",
              "    }\n",
              "\n",
              "    .dataframe thead th {\n",
              "        text-align: right;\n",
              "    }\n",
              "</style>\n",
              "<table border=\"1\" class=\"dataframe\">\n",
              "  <thead>\n",
              "    <tr style=\"text-align: right;\">\n",
              "      <th></th>\n",
              "      <th>LAST</th>\n",
              "      <th>FIRST</th>\n",
              "      <th>BLOCK</th>\n",
              "      <th>GENDER</th>\n",
              "      <th>RACE</th>\n",
              "      <th>BIRTH DATE</th>\n",
              "      <th>AGE</th>\n",
              "      <th>HEIGHT</th>\n",
              "      <th>WEIGHT</th>\n",
              "      <th>VICTIM MINOR</th>\n",
              "    </tr>\n",
              "  </thead>\n",
              "  <tbody>\n",
              "    <tr>\n",
              "      <th>0</th>\n",
              "      <td>MCGINNIS</td>\n",
              "      <td>DELL</td>\n",
              "      <td>0000X E 100TH PL</td>\n",
              "      <td>MALE</td>\n",
              "      <td>BLACK</td>\n",
              "      <td>07/26/1982</td>\n",
              "      <td>37.0</td>\n",
              "      <td>505</td>\n",
              "      <td>141</td>\n",
              "      <td>Y</td>\n",
              "    </tr>\n",
              "    <tr>\n",
              "      <th>1</th>\n",
              "      <td>WHITE</td>\n",
              "      <td>CHARLES</td>\n",
              "      <td>0000X E 100TH ST</td>\n",
              "      <td>MALE</td>\n",
              "      <td>BLACK</td>\n",
              "      <td>05/02/1961</td>\n",
              "      <td>58.0</td>\n",
              "      <td>509</td>\n",
              "      <td>180</td>\n",
              "      <td>Y</td>\n",
              "    </tr>\n",
              "    <tr>\n",
              "      <th>2</th>\n",
              "      <td>SIMON</td>\n",
              "      <td>GERA</td>\n",
              "      <td>0000X E 110TH PL</td>\n",
              "      <td>MALE</td>\n",
              "      <td>BLACK</td>\n",
              "      <td>05/21/1952</td>\n",
              "      <td>67.0</td>\n",
              "      <td>504</td>\n",
              "      <td>110</td>\n",
              "      <td>Y</td>\n",
              "    </tr>\n",
              "    <tr>\n",
              "      <th>3</th>\n",
              "      <td>WARD</td>\n",
              "      <td>RICHARD</td>\n",
              "      <td>0000X E 110TH PL</td>\n",
              "      <td>MALE</td>\n",
              "      <td>BLACK</td>\n",
              "      <td>07/23/1949</td>\n",
              "      <td>70.0</td>\n",
              "      <td>506</td>\n",
              "      <td>190</td>\n",
              "      <td>Y</td>\n",
              "    </tr>\n",
              "    <tr>\n",
              "      <th>4</th>\n",
              "      <td>WORTHON</td>\n",
              "      <td>SEBASTIAN</td>\n",
              "      <td>0000X E 119TH PL</td>\n",
              "      <td>MALE</td>\n",
              "      <td>BLACK</td>\n",
              "      <td>10/22/1982</td>\n",
              "      <td>37.0</td>\n",
              "      <td>600</td>\n",
              "      <td>180</td>\n",
              "      <td>Y</td>\n",
              "    </tr>\n",
              "  </tbody>\n",
              "</table>\n",
              "</div>"
            ],
            "text/plain": [
              "       LAST      FIRST             BLOCK  ... HEIGHT WEIGHT VICTIM MINOR\n",
              "0  MCGINNIS       DELL  0000X E 100TH PL  ...    505    141            Y\n",
              "1     WHITE    CHARLES  0000X E 100TH ST  ...    509    180            Y\n",
              "2     SIMON       GERA  0000X E 110TH PL  ...    504    110            Y\n",
              "3      WARD    RICHARD  0000X E 110TH PL  ...    506    190            Y\n",
              "4   WORTHON  SEBASTIAN  0000X E 119TH PL  ...    600    180            Y\n",
              "\n",
              "[5 rows x 10 columns]"
            ]
          },
          "metadata": {
            "tags": []
          },
          "execution_count": 2
        }
      ]
    },
    {
      "cell_type": "code",
      "metadata": {
        "id": "S3zd68GzE8e8",
        "colab_type": "code",
        "outputId": "8ad32887-7c82-4188-d70f-a31aba7a0ab8",
        "colab": {
          "base_uri": "https://localhost:8080/",
          "height": 204
        }
      },
      "source": [
        "b = df.loc[:, ['GENDER', 'VICTIM MINOR']]\n",
        "b.head()"
      ],
      "execution_count": 0,
      "outputs": [
        {
          "output_type": "execute_result",
          "data": {
            "text/html": [
              "<div>\n",
              "<style scoped>\n",
              "    .dataframe tbody tr th:only-of-type {\n",
              "        vertical-align: middle;\n",
              "    }\n",
              "\n",
              "    .dataframe tbody tr th {\n",
              "        vertical-align: top;\n",
              "    }\n",
              "\n",
              "    .dataframe thead th {\n",
              "        text-align: right;\n",
              "    }\n",
              "</style>\n",
              "<table border=\"1\" class=\"dataframe\">\n",
              "  <thead>\n",
              "    <tr style=\"text-align: right;\">\n",
              "      <th></th>\n",
              "      <th>GENDER</th>\n",
              "      <th>VICTIM MINOR</th>\n",
              "    </tr>\n",
              "  </thead>\n",
              "  <tbody>\n",
              "    <tr>\n",
              "      <th>0</th>\n",
              "      <td>MALE</td>\n",
              "      <td>Y</td>\n",
              "    </tr>\n",
              "    <tr>\n",
              "      <th>1</th>\n",
              "      <td>MALE</td>\n",
              "      <td>Y</td>\n",
              "    </tr>\n",
              "    <tr>\n",
              "      <th>2</th>\n",
              "      <td>MALE</td>\n",
              "      <td>Y</td>\n",
              "    </tr>\n",
              "    <tr>\n",
              "      <th>3</th>\n",
              "      <td>MALE</td>\n",
              "      <td>Y</td>\n",
              "    </tr>\n",
              "    <tr>\n",
              "      <th>4</th>\n",
              "      <td>MALE</td>\n",
              "      <td>Y</td>\n",
              "    </tr>\n",
              "  </tbody>\n",
              "</table>\n",
              "</div>"
            ],
            "text/plain": [
              "  GENDER VICTIM MINOR\n",
              "0   MALE            Y\n",
              "1   MALE            Y\n",
              "2   MALE            Y\n",
              "3   MALE            Y\n",
              "4   MALE            Y"
            ]
          },
          "metadata": {
            "tags": []
          },
          "execution_count": 11
        }
      ]
    },
    {
      "cell_type": "code",
      "metadata": {
        "id": "0SCdw26AJoHt",
        "colab_type": "code",
        "colab": {}
      },
      "source": [
        "data_dummies = pd.get_dummies(b)"
      ],
      "execution_count": 0,
      "outputs": []
    },
    {
      "cell_type": "code",
      "metadata": {
        "id": "3uubljp4JoDr",
        "colab_type": "code",
        "outputId": "fe8e25b7-1d73-4236-efca-0b6f63c341b4",
        "colab": {
          "base_uri": "https://localhost:8080/",
          "height": 297
        }
      },
      "source": [
        "data_dummies.describe()"
      ],
      "execution_count": 0,
      "outputs": [
        {
          "output_type": "execute_result",
          "data": {
            "text/html": [
              "<div>\n",
              "<style scoped>\n",
              "    .dataframe tbody tr th:only-of-type {\n",
              "        vertical-align: middle;\n",
              "    }\n",
              "\n",
              "    .dataframe tbody tr th {\n",
              "        vertical-align: top;\n",
              "    }\n",
              "\n",
              "    .dataframe thead th {\n",
              "        text-align: right;\n",
              "    }\n",
              "</style>\n",
              "<table border=\"1\" class=\"dataframe\">\n",
              "  <thead>\n",
              "    <tr style=\"text-align: right;\">\n",
              "      <th></th>\n",
              "      <th>GENDER_FEMALE</th>\n",
              "      <th>GENDER_MALE</th>\n",
              "      <th>VICTIM MINOR_N</th>\n",
              "      <th>VICTIM MINOR_Y</th>\n",
              "    </tr>\n",
              "  </thead>\n",
              "  <tbody>\n",
              "    <tr>\n",
              "      <th>count</th>\n",
              "      <td>1080.000000</td>\n",
              "      <td>1080.000000</td>\n",
              "      <td>1080.000000</td>\n",
              "      <td>1080.000000</td>\n",
              "    </tr>\n",
              "    <tr>\n",
              "      <th>mean</th>\n",
              "      <td>0.018519</td>\n",
              "      <td>0.981481</td>\n",
              "      <td>0.283333</td>\n",
              "      <td>0.716667</td>\n",
              "    </tr>\n",
              "    <tr>\n",
              "      <th>std</th>\n",
              "      <td>0.134879</td>\n",
              "      <td>0.134879</td>\n",
              "      <td>0.450826</td>\n",
              "      <td>0.450826</td>\n",
              "    </tr>\n",
              "    <tr>\n",
              "      <th>min</th>\n",
              "      <td>0.000000</td>\n",
              "      <td>0.000000</td>\n",
              "      <td>0.000000</td>\n",
              "      <td>0.000000</td>\n",
              "    </tr>\n",
              "    <tr>\n",
              "      <th>25%</th>\n",
              "      <td>0.000000</td>\n",
              "      <td>1.000000</td>\n",
              "      <td>0.000000</td>\n",
              "      <td>0.000000</td>\n",
              "    </tr>\n",
              "    <tr>\n",
              "      <th>50%</th>\n",
              "      <td>0.000000</td>\n",
              "      <td>1.000000</td>\n",
              "      <td>0.000000</td>\n",
              "      <td>1.000000</td>\n",
              "    </tr>\n",
              "    <tr>\n",
              "      <th>75%</th>\n",
              "      <td>0.000000</td>\n",
              "      <td>1.000000</td>\n",
              "      <td>1.000000</td>\n",
              "      <td>1.000000</td>\n",
              "    </tr>\n",
              "    <tr>\n",
              "      <th>max</th>\n",
              "      <td>1.000000</td>\n",
              "      <td>1.000000</td>\n",
              "      <td>1.000000</td>\n",
              "      <td>1.000000</td>\n",
              "    </tr>\n",
              "  </tbody>\n",
              "</table>\n",
              "</div>"
            ],
            "text/plain": [
              "       GENDER_FEMALE  GENDER_MALE  VICTIM MINOR_N  VICTIM MINOR_Y\n",
              "count    1080.000000  1080.000000     1080.000000     1080.000000\n",
              "mean        0.018519     0.981481        0.283333        0.716667\n",
              "std         0.134879     0.134879        0.450826        0.450826\n",
              "min         0.000000     0.000000        0.000000        0.000000\n",
              "25%         0.000000     1.000000        0.000000        0.000000\n",
              "50%         0.000000     1.000000        0.000000        1.000000\n",
              "75%         0.000000     1.000000        1.000000        1.000000\n",
              "max         1.000000     1.000000        1.000000        1.000000"
            ]
          },
          "metadata": {
            "tags": []
          },
          "execution_count": 25
        }
      ]
    },
    {
      "cell_type": "code",
      "metadata": {
        "id": "Bi9hPfw8-2VW",
        "colab_type": "code",
        "colab": {}
      },
      "source": [
        ""
      ],
      "execution_count": 0,
      "outputs": []
    },
    {
      "cell_type": "code",
      "metadata": {
        "id": "Gwuos7HD-2Ym",
        "colab_type": "code",
        "colab": {}
      },
      "source": [
        ""
      ],
      "execution_count": 0,
      "outputs": []
    },
    {
      "cell_type": "code",
      "metadata": {
        "id": "qeO7_fci-sXi",
        "colab_type": "code",
        "outputId": "cbcf9338-ac1b-423b-a087-65c1348e9843",
        "colab": {
          "base_uri": "https://localhost:8080/",
          "height": 386
        }
      },
      "source": [
        "sns.lmplot(x='GENDER_MALE',y='VICTIM MINOR_Y',data=data_dummies)\n"
      ],
      "execution_count": 0,
      "outputs": [
        {
          "output_type": "execute_result",
          "data": {
            "text/plain": [
              "<seaborn.axisgrid.FacetGrid at 0x7ff12960feb8>"
            ]
          },
          "metadata": {
            "tags": []
          },
          "execution_count": 32
        },
        {
          "output_type": "display_data",
          "data": {
            "image/png": "[encoded data removed]",
            "text/plain": [
              "<Figure size 360x360 with 1 Axes>"
            ]
          },
          "metadata": {
            "tags": []
          }
        }
      ]
    }
  ]
}